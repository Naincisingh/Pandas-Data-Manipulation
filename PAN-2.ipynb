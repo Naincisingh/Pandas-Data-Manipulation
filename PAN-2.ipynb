{
 "cells": [
  {
   "cell_type": "code",
   "execution_count": 1,
   "id": "18ee4703-8808-4a8a-aa46-724d43b6b669",
   "metadata": {},
   "outputs": [
    {
     "data": {
      "text/plain": [
       "0    2\n",
       "1    3\n",
       "2    6\n",
       "3    4\n",
       "Name: duration, dtype: int64"
      ]
     },
     "execution_count": 1,
     "metadata": {},
     "output_type": "execute_result"
    }
   ],
   "source": [
    "\"\"\"QTS.1\"\"\"\n",
    "import pandas as pd\n",
    "\n",
    "course_name = ['Data Science', 'Machine Learning', 'Big Data', 'Data Engineer']\n",
    "\n",
    "duration = [2,3,6,4]\n",
    "\n",
    "df = pd.DataFrame(data = {'course_name' : course_name, 'duration' : duration})\n",
    "df['duration']"
   ]
  },
  {
   "cell_type": "code",
   "execution_count": 2,
   "id": "e49209c8-9aa4-4c47-96ee-581e399227f8",
   "metadata": {},
   "outputs": [
    {
     "data": {
      "text/plain": [
       "'QTS.2\\nLoc and iloc are two functions in Pandas that are used to slice a data set in \\na Pandas DataFrame. The function . loc is typically used for label indexing \\nand can access multiple columns,while iloc is used for integer indexing.'"
      ]
     },
     "execution_count": 2,
     "metadata": {},
     "output_type": "execute_result"
    }
   ],
   "source": [
    "\"\"\"QTS.2\n",
    "Loc and iloc are two functions in Pandas that are used to slice a data set in \n",
    "a Pandas DataFrame. The function . loc is typically used for label indexing \n",
    "and can access multiple columns,while iloc is used for integer indexing.\"\"\""
   ]
  },
  {
   "cell_type": "code",
   "execution_count": 3,
   "id": "63c10d4c-5cc5-40b1-9aa6-87fd97eeb7d4",
   "metadata": {},
   "outputs": [
    {
     "data": {
      "text/plain": [
       "course_name    Data Engineer\n",
       "duration                   4\n",
       "Name: 2, dtype: object"
      ]
     },
     "execution_count": 3,
     "metadata": {},
     "output_type": "execute_result"
    }
   ],
   "source": [
    "\"\"\"QTS.3\"\"\"\n",
    "reindex=[3,0,1,2]\n",
    "new_df = pd.DataFrame(data = {'course_name' : course_name, 'duration' : duration},index=reindex)\n",
    "new_df.loc[2]"
   ]
  },
  {
   "cell_type": "code",
   "execution_count": 4,
   "id": "abfd78e9-2d8b-417b-983d-4d3db8f53c16",
   "metadata": {},
   "outputs": [
    {
     "data": {
      "text/plain": [
       "course_name    Big Data\n",
       "duration              6\n",
       "Name: 1, dtype: object"
      ]
     },
     "execution_count": 4,
     "metadata": {},
     "output_type": "execute_result"
    }
   ],
   "source": [
    "\"\"\"QTS.3\"\"\"\n",
    "new_df.iloc[2]\n",
    "##hence proved loc() consider only named indexes given by us only, while iloc() considers inbuilt indexes."
   ]
  },
  {
   "cell_type": "code",
   "execution_count": 5,
   "id": "b15cdad5-b00f-44d6-a59e-0fd09f7b2bd4",
   "metadata": {},
   "outputs": [
    {
     "data": {
      "text/plain": [
       "column_1    0.444209\n",
       "column_2    0.695578\n",
       "column_3    0.518233\n",
       "column_4    0.569036\n",
       "column_5    0.475615\n",
       "column_6    0.483136\n",
       "dtype: float64"
      ]
     },
     "execution_count": 5,
     "metadata": {},
     "output_type": "execute_result"
    }
   ],
   "source": [
    "\"\"\"qts.4\"\"\"\n",
    "\n",
    "import numpy as np\n",
    "\n",
    "columns = ['column_1', 'column_2', 'column_3', 'column_4', 'column_5', 'column_6']\n",
    "\n",
    "indices = [1,2,3,4,5,6]\n",
    "\n",
    "#Creating a dataframe:\n",
    "\n",
    "df1 = pd.DataFrame(np.random.rand(6,6), columns = columns, index = indices)\n",
    "#1.mean of each column:-\n",
    "df1.mean()"
   ]
  },
  {
   "cell_type": "code",
   "execution_count": 6,
   "id": "77c7519b-bd01-4e5a-b849-5c78e6d30b67",
   "metadata": {},
   "outputs": [
    {
     "data": {
      "text/plain": [
       "0.6955781333744874"
      ]
     },
     "execution_count": 6,
     "metadata": {},
     "output_type": "execute_result"
    }
   ],
   "source": [
    "#2.standard deviation of column_2.\n",
    "df1['column_2'].mean()"
   ]
  },
  {
   "cell_type": "code",
   "execution_count": 7,
   "id": "0e9148c9-ccf1-49d6-9526-f8cc97a21238",
   "metadata": {},
   "outputs": [
    {
     "data": {
      "text/plain": [
       "1         0.9609\n",
       "2    datascience\n",
       "3       0.913345\n",
       "4       0.687844\n",
       "5       0.734378\n",
       "6       0.457108\n",
       "Name: column_2, dtype: object"
      ]
     },
     "execution_count": 7,
     "metadata": {},
     "output_type": "execute_result"
    }
   ],
   "source": [
    "\"\"\"QTS.5\"\"\"\n",
    "a=\"datascience\"\n",
    "df1.loc[2,['column_2']]=a\n",
    "df1['column_2']\n",
    "#df1['column_2'].mean()\n",
    "##as in column_2 float and string type data is present\n",
    "##,as we know average of such data is not possible to find. "
   ]
  },
  {
   "cell_type": "code",
   "execution_count": 8,
   "id": "ffe12e3a-9934-4b58-90b6-b8b0c97ce037",
   "metadata": {},
   "outputs": [
    {
     "data": {
      "text/plain": [
       "'QTS.6\\nA window function executes a calculation across a related set of table rows\\nto the current row. It is also called SQL analytic function.\\nIt uses values from one or different rows to return a value for each row.\\n\\nThere are three main types of window functions \\navailable to use: aggregate, ranking, and value functions.\\nAggregate window functions are used to perform operations on sets of rows \\nin a window(s). They include SUM() , MAX() , COUNT() , and others. Rank \\nwindow functions are used to rank rows in a window(s). They include RANK() ,\\nDENSE_RANK() , ROW_NUMBER() ,'"
      ]
     },
     "execution_count": 8,
     "metadata": {},
     "output_type": "execute_result"
    }
   ],
   "source": [
    "\"\"\"QTS.6\n",
    "A window function executes a calculation across a related set of table rows\n",
    "to the current row. It is also called SQL analytic function.\n",
    "It uses values from one or different rows to return a value for each row.\n",
    "\n",
    "There are three main types of window functions \n",
    "available to use: aggregate, ranking, and value functions.\n",
    "Aggregate window functions are used to perform operations on sets of rows \n",
    "in a window(s). They include SUM() , MAX() , COUNT() , and others. Rank \n",
    "window functions are used to rank rows in a window(s). They include RANK() ,\n",
    "DENSE_RANK() , ROW_NUMBER() ,\"\"\""
   ]
  },
  {
   "cell_type": "code",
   "execution_count": 20,
   "id": "c0331930-25f4-4844-a379-bc98a8f6ff8d",
   "metadata": {},
   "outputs": [
    {
     "name": "stdout",
     "output_type": "stream",
     "text": [
      "current month= 8\n",
      "current year= 2023\n"
     ]
    },
    {
     "name": "stderr",
     "output_type": "stream",
     "text": [
      "/tmp/ipykernel_250/3085264553.py:4: FutureWarning: The pandas.datetime class is deprecated and will be removed from pandas in a future version. Import from datetime module instead.\n",
      "  print(\"current month=\",pd.datetime(2023,8,2).month)\n",
      "/tmp/ipykernel_250/3085264553.py:5: FutureWarning: The pandas.datetime class is deprecated and will be removed from pandas in a future version. Import from datetime module instead.\n",
      "  print(\"current year=\",pd.datetime(2023,8,2).year)\n"
     ]
    }
   ],
   "source": [
    "\"\"\"QTS.7\"\"\"\n",
    "import datetime as dt\n",
    "import pandas as pd\n",
    "print(\"current month=\",pd.datetime(2023,8,2).month)\n",
    "print(\"current year=\",pd.datetime(2023,8,2).year)\n"
   ]
  },
  {
   "cell_type": "code",
   "execution_count": 29,
   "id": "f649c895-4e5e-49d3-b98e-b95d906d5000",
   "metadata": {},
   "outputs": [
    {
     "name": "stdin",
     "output_type": "stream",
     "text": [
      "enter any date in YYYY-MM-DD format 1998/5/2\n",
      "entr any date in YYYY-MM-DD format 2023/6/5\n"
     ]
    },
    {
     "data": {
      "text/plain": [
       "Timedelta('9165 days 00:00:00')"
      ]
     },
     "execution_count": 29,
     "metadata": {},
     "output_type": "execute_result"
    }
   ],
   "source": [
    "### \"\"\"QTS.8\"\"\"\n",
    "import pandas as pd\n",
    "import datetime as dt\n",
    "\n",
    "d1=input(\"enter any date in YYYY-MM-DD format\")\n",
    "d2=input(\"entr any date in YYYY-MM-DD format\")\n",
    "t1=pd.to_datetime(d1)\n",
    "t2=pd.to_datetime(d2)\n",
    "diff=t2-t1\n",
    "diff"
   ]
  },
  {
   "cell_type": "code",
   "execution_count": 4,
   "id": "16f58072-95b7-42fe-8cc7-79fef54b015c",
   "metadata": {},
   "outputs": [
    {
     "name": "stdin",
     "output_type": "stream",
     "text": [
      "Enter a filepath:  services.csv\n",
      "Enter a column name:  id\n",
      "Enter the order in which you want to sort the column (ascending/descending):  descending\n"
     ]
    },
    {
     "name": "stdout",
     "output_type": "stream",
     "text": [
      "0      1\n",
      "1      2\n",
      "2      3\n",
      "3      4\n",
      "4      5\n",
      "5      6\n",
      "6      7\n",
      "7      8\n",
      "8      9\n",
      "9     10\n",
      "10    11\n",
      "11    12\n",
      "12    13\n",
      "13    14\n",
      "14    15\n",
      "15    16\n",
      "16    17\n",
      "17    18\n",
      "18    19\n",
      "19    20\n",
      "20    21\n",
      "21    22\n",
      "22    23\n",
      "Name: new_colnm, dtype: int64\n"
     ]
    }
   ],
   "source": [
    "\"\"\"QTS.9\"\"\"\n",
    "import pandas as pd\n",
    "\n",
    "file_path = input(\"Enter a filepath: \")\n",
    "col_nm = input(\"Enter a column name: \")\n",
    "category_order = input(\"Enter the order in which you want to sort the column (ascending/descending): \").lower()\n",
    "\n",
    "df = pd.read_csv(file_path)\n",
    "\n",
    "if col_nm not in df.columns:\n",
    "    print(f\"Column '{col_nm}' is not present in the DataFrame.\")\n",
    "else:\n",
    "    def cal(x):\n",
    "        if category_order ==\"ascending\":\n",
    "            \n",
    "            return df[col_nm].sort_values()\n",
    "        \n",
    "        elif category_order ==\"descending\":\n",
    "            \n",
    "            return df[col_nm].sort_values(ascending=False)\n",
    "        else:\n",
    "            raise ValueError(\"Invalid category_order value. Please use 'ascending' or 'descending'.\")\n",
    "\n",
    "    df['new_colnm'] = cal(df[col_nm])\n",
    "    print(df['new_colnm'])\n"
   ]
  },
  {
   "cell_type": "code",
   "execution_count": 2,
   "id": "6868ed1c-5906-40bd-8be8-f3f752efc1b0",
   "metadata": {},
   "outputs": [
    {
     "data": {
      "image/png": "[encoded data removed]",
      "text/plain": [
       "<Figure size 640x480 with 1 Axes>"
      ]
     },
     "metadata": {},
     "output_type": "display_data"
    }
   ],
   "source": [
    "\"\"\"\"QTS.10\"\"\"\n",
    "import pandas as pd\n",
    "data={\"category\":['A','B','C','D','E','F','G','H','I','J','K','L'],\n",
    "      \"segment1\":[2015,2014,2012,2011,2000,2015,2016,2018,2017,2016,2015,2014],\n",
    "      \"segment2\":[56,52,45,366,23,1,582,147,564,12,123,555]}\n",
    "df=pd.DataFrame(data)\n",
    "df.set_index('category',inplace=True)\n",
    "df\n",
    "\n",
    "import matplotlib.pyplot as plt\n",
    "\n",
    "df.plot(kind='bar',stacked=True)  ###stack bar plot\n",
    "                                  # requires numeric values in columns\n",
    "                                  # number of columns with numeric data is prefer as columns make stacks.\n",
    "                                  # good to have object type index , makes it easier to understand plot. \n",
    "plt.title('Stacked Bar Plot')\n",
    "plt.xlabel('Category')\n",
    "plt.ylabel('Values')\n",
    "plt.legend(title='Segments')\n",
    "plt.show()    "
   ]
  },
  {
   "cell_type": "code",
   "execution_count": 3,
   "id": "5dcb222f-78b2-4fbc-8055-e4eb24b8efaf",
   "metadata": {},
   "outputs": [],
   "source": [
    "\"\"\"\"QTS.11\"\"\"\n",
    "import pandas as pd\n",
    "\n",
    "data = {\n",
    "    \"student_id\": [1, 2, 3, 4, 5, 6, 7, 8],\n",
    "    \"test_score\": [85, 90, 80, 75, 85, 82, 78, 85]\n",
    "}\n",
    "\n",
    "df = pd.DataFrame(data)\n",
    "\n",
    "# Specify the path where you want to save the CSV file\n",
    "csv_file_path = \"student_data.csv\"\n",
    "\n",
    "# Save the DataFrame to a CSV file\n",
    "df1=df.to_csv(csv_file_path,index=False)\n",
    "\n",
    "df['mean']=df['test_score'].mean()\n",
    "df['mode']=df['test_score'].mode()\n",
    "df['median']=df['test_score'].median()\n",
    "\n",
    "\n",
    "df.to_csv(\"report_card.csv\",index=False)"
   ]
  },
  {
   "cell_type": "code",
   "execution_count": null,
   "id": "ecd6364c-f9d1-488f-bc24-fdaa76b9489d",
   "metadata": {},
   "outputs": [],
   "source": []
  }
 ],
 "metadata": {
  "kernelspec": {
   "display_name": "Python 3 (ipykernel)",
   "language": "python",
   "name": "python3"
  },
  "language_info": {
   "codemirror_mode": {
    "name": "ipython",
    "version": 3
   },
   "file_extension": ".py",
   "mimetype": "text/x-python",
   "name": "python",
   "nbconvert_exporter": "python",
   "pygments_lexer": "ipython3",
   "version": "3.10.8"
  }
 },
 "nbformat": 4,
 "nbformat_minor": 5
}
